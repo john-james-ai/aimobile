{
 "cells": [
  {
   "attachments": {},
   "cell_type": "markdown",
   "metadata": {},
   "source": [
    "# AppStore Reviews\n",
    "As of 2022, the average number of reviews per IOS app was 455. This notebook, extracts user reviews of IOS apps defined as follows:\n",
    "\n",
    "## AppStore Review Entity\n",
    "The AppStore Review entity is defined as follows.  \n",
    "\n",
    "| #  | name        | description                                          | api_field                    |\n",
    "|----|-------------|------------------------------------------------------|------------------------------|\n",
    "| 1  | id          | Unique review identifier                             | userReviewId                 |\n",
    "| 2  | app_id      | Unique identifier for the app                        | from appstore['id']          |\n",
    "| 3  | app_name    | Name of app                                          | from appstore['name']        |\n",
    "| 4  | category_id | Four digit category identifier                       | from appstore['category_id'] |\n",
    "| 5  | category    | Category label                                       | from appstore['category']    |\n",
    "| 6  | author      | Review author                                        | name                         |\n",
    "| 7  | rating      | Rating accompanying the review                       | rating                       |\n",
    "| 8  | title       | Brief description of the review                      | title                        |\n",
    "| 9  | content     | Review text                                          | body                         |\n",
    "| 10 | vote_sum    | The number of customers who found the review helpful | voteSum                      |\n",
    "| 11 | vote_count  | The total number of customers who voted (yes/no)     | voteCount                    |\n",
    "| 12 | date        | Datetime of review                                   | date                         |\n",
    "| 13 | source      | The base url                                         | itunes.apple.com             |\n",
    "\n",
    "Reviews will be extracted by category of apps in the appdata repository. Concretely, reviews will be obtained for the following categories:\n",
    "\n",
    "| category_id | category               |\n",
    "|-------------|------------------------|\n",
    "| 6000        |  \"BUSINESS\",           |\n",
    "| 6017        |  \"EDUCATION\",          |\n",
    "| 6016        |  \"ENTERTAINMENT\",      |\n",
    "| 6013        |  \"HEALTH_AND_FITNESS\", |\n",
    "| 6012        |  \"LIFESTYLE\",          |\n",
    "| 6020        |  \"MEDICAL\",            |\n",
    "| 6007        |  \"PRODUCTIVITY\",       |\n",
    "| 6005        |  \"SOCIAL_NETWORKING\",  |\n"
   ]
  },
  {
   "attachments": {},
   "cell_type": "markdown",
   "metadata": {},
   "source": [
    "### Imports"
   ]
  },
  {
   "cell_type": "code",
   "execution_count": 1,
   "metadata": {},
   "outputs": [],
   "source": [
    "from aimobile.data.acquisition.review.controller import ReviewController\n",
    "from aimobile.container import AIMobileContainer"
   ]
  },
  {
   "cell_type": "code",
   "execution_count": 2,
   "metadata": {},
   "outputs": [],
   "source": [
    "CATEGORIES = [6007]"
   ]
  },
  {
   "attachments": {},
   "cell_type": "markdown",
   "metadata": {},
   "source": [
    "### Dependencies"
   ]
  },
  {
   "cell_type": "code",
   "execution_count": 3,
   "metadata": {},
   "outputs": [],
   "source": [
    "container = AIMobileContainer()\n",
    "container.init_resources()\n",
    "container.wire(packages=[\"aimobile.data.acquisition\"])"
   ]
  },
  {
   "attachments": {},
   "cell_type": "markdown",
   "metadata": {},
   "source": [
    "### Review Page\n",
    "ReviewProject manages the extraction of review data from the App Store. Iterating through the CATEGORIES above, a scraper returns review data for each app in the repository, by category. As before, the results are stored in an RDBMS and archived."
   ]
  },
  {
   "cell_type": "code",
   "execution_count": 4,
   "metadata": {},
   "outputs": [
    {
     "name": "stderr",
     "output_type": "stream",
     "text": [
      "[06/02/2023 03:24:32 AM] [ERROR] [MySQLDatabase] [connect] : Database is not started. Starting database...\n",
      "[sudo] password for john: "
     ]
    },
    {
     "name": "stdout",
     "output_type": "stream",
     "text": [
      "\n",
      "Starting MySQL...\n",
      " * Starting MySQL database server mysqld\n"
     ]
    },
    {
     "name": "stderr",
     "output_type": "stream",
     "text": [
      "su: warning: cannot change directory to /nonexistent: No such file or directory\n"
     ]
    },
    {
     "name": "stdout",
     "output_type": "stream",
     "text": [
      "   ...done.\n"
     ]
    },
    {
     "name": "stderr",
     "output_type": "stream",
     "text": [
      "[06/02/2023 03:24:39 AM] [INFO] [ReviewController] [_start_project] : \n",
      "\n",
      "Controller with 1 categories started at 06/02/2023, 03:24:39\n",
      "\n",
      "[06/02/2023 03:27:29 AM] [INFO] [ReviewController] [_announce_category_start] : \n",
      "\n",
      "Category: 6007-PRODUCTIVITY Started at 06/02/2023, 03:24:39\n",
      "\t               Apps in Category: | 11571\n",
      "\t          Apps with Min Ratings: | 7167\n",
      "\t              Apps with Reviews: | 4439\n",
      "\t                Apps to Process: | 406\n",
      "\n",
      "[06/02/2023 03:27:34 AM] [ERROR] [ReviewScraper] [_is_valid_response] : Invalid Response: Response json 'userReviewList' has zero length.\n",
      "[06/02/2023 03:27:36 AM] [ERROR] [ReviewScraper] [_is_valid_response] : Invalid Response: Response json 'userReviewList' has zero length.\n",
      "[06/02/2023 03:27:38 AM] [ERROR] [ReviewScraper] [_is_valid_response] : Invalid Response: Response json 'userReviewList' has zero length.\n",
      "[06/02/2023 03:27:39 AM] [ERROR] [ReviewScraper] [_is_valid_response] : Invalid Response: Response json 'userReviewList' has zero length.\n",
      "[06/02/2023 03:27:41 AM] [ERROR] [ReviewScraper] [_is_valid_response] : Invalid Response: Response json 'userReviewList' has zero length.\n",
      "[06/02/2023 03:27:42 AM] [ERROR] [ReviewScraper] [_is_valid_response] : Invalid Response: Response json 'userReviewList' has zero length.\n",
      "[06/02/2023 03:27:44 AM] [ERROR] [ReviewScraper] [_is_valid_response] : Invalid Response: Response json 'userReviewList' has zero length.\n",
      "[06/02/2023 03:27:45 AM] [ERROR] [ReviewScraper] [_is_valid_response] : Invalid Response: Response json 'userReviewList' has zero length.\n",
      "[06/02/2023 03:27:47 AM] [ERROR] [ReviewScraper] [_is_valid_response] : Invalid Response: Response json 'userReviewList' has zero length.\n",
      "[06/02/2023 03:27:52 AM] [ERROR] [ReviewScraper] [_is_valid_response] : Invalid Response: Response json 'userReviewList' has zero length.\n"
     ]
    },
    {
     "ename": "KeyError",
     "evalue": "'reviews_per_second'",
     "output_type": "error",
     "traceback": [
      "\u001b[0;31m---------------------------------------------------------------------------\u001b[0m",
      "\u001b[0;31mKeyError\u001b[0m                                  Traceback (most recent call last)",
      "Cell \u001b[0;32mIn[4], line 2\u001b[0m\n\u001b[1;32m      1\u001b[0m ctrl \u001b[39m=\u001b[39m ReviewController()\n\u001b[0;32m----> 2\u001b[0m ctrl\u001b[39m.\u001b[39;49mscrape(category_ids\u001b[39m=\u001b[39;49mCATEGORIES)\n",
      "File \u001b[0;32m~/projects/aimobile/aimobile/data/acquisition/review/controller.py:125\u001b[0m, in \u001b[0;36mReviewController.scrape\u001b[0;34m(self, category_ids)\u001b[0m\n\u001b[1;32m    123\u001b[0m     \u001b[39mself\u001b[39m\u001b[39m.\u001b[39m_logger\u001b[39m.\u001b[39minfo(msg)\n\u001b[1;32m    124\u001b[0m \u001b[39melse\u001b[39;00m:\n\u001b[0;32m--> 125\u001b[0m     \u001b[39mself\u001b[39;49m\u001b[39m.\u001b[39;49m_scrape(category_ids\u001b[39m=\u001b[39;49mcategory_ids)\n\u001b[1;32m    127\u001b[0m \u001b[39mself\u001b[39m\u001b[39m.\u001b[39m_teardown()\n",
      "File \u001b[0;32m~/projects/aimobile/aimobile/data/acquisition/review/controller.py:160\u001b[0m, in \u001b[0;36mReviewController._scrape\u001b[0;34m(self, category_ids)\u001b[0m\n\u001b[1;32m    157\u001b[0m             \u001b[39mself\u001b[39m\u001b[39m.\u001b[39m_save_page(scraper\u001b[39m.\u001b[39mresult)\n\u001b[1;32m    158\u001b[0m             \u001b[39mself\u001b[39m\u001b[39m.\u001b[39m_end_page(scraper\u001b[39m.\u001b[39mresult)\n\u001b[0;32m--> 160\u001b[0m         \u001b[39mself\u001b[39;49m\u001b[39m.\u001b[39;49m_end_app()\n\u001b[1;32m    162\u001b[0m     \u001b[39mself\u001b[39m\u001b[39m.\u001b[39m_end_category()\n\u001b[1;32m    164\u001b[0m \u001b[39mself\u001b[39m\u001b[39m.\u001b[39m_end_project()\n",
      "File \u001b[0;32m~/projects/aimobile/aimobile/data/acquisition/review/controller.py:289\u001b[0m, in \u001b[0;36mReviewController._end_app\u001b[0;34m(self)\u001b[0m\n\u001b[1;32m    287\u001b[0m \u001b[39mself\u001b[39m\u001b[39m.\u001b[39m_category_stats[\u001b[39m\"\u001b[39m\u001b[39mreviews_per_app\u001b[39m\u001b[39m\"\u001b[39m]\u001b[39m.\u001b[39mappend(\u001b[39mself\u001b[39m\u001b[39m.\u001b[39m_app_stats[\u001b[39m\"\u001b[39m\u001b[39mreviews\u001b[39m\u001b[39m\"\u001b[39m])\n\u001b[1;32m    288\u001b[0m \u001b[39mif\u001b[39;00m \u001b[39mself\u001b[39m\u001b[39m.\u001b[39m_category_stats[\u001b[39m\"\u001b[39m\u001b[39mapp_count\u001b[39m\u001b[39m\"\u001b[39m] \u001b[39m%\u001b[39m \u001b[39mself\u001b[39m\u001b[39m.\u001b[39m_verbose \u001b[39m==\u001b[39m \u001b[39m0\u001b[39m:\n\u001b[0;32m--> 289\u001b[0m     \u001b[39mself\u001b[39;49m\u001b[39m.\u001b[39;49m_announce_batch()\n",
      "File \u001b[0;32m~/projects/aimobile/aimobile/data/acquisition/review/controller.py:325\u001b[0m, in \u001b[0;36mReviewController._announce_batch\u001b[0;34m(self)\u001b[0m\n\u001b[1;32m    321\u001b[0m \u001b[39mdef\u001b[39;00m \u001b[39m_announce_batch\u001b[39m(\u001b[39mself\u001b[39m) \u001b[39m-\u001b[39m\u001b[39m>\u001b[39m \u001b[39mNone\u001b[39;00m:\n\u001b[1;32m    322\u001b[0m     msg \u001b[39m=\u001b[39m \u001b[39mf\u001b[39m\u001b[39m\"\u001b[39m\u001b[39mCategory: \u001b[39m\u001b[39m{\u001b[39;00m\u001b[39mself\u001b[39m\u001b[39m.\u001b[39m_category_stats[\u001b[39m'\u001b[39m\u001b[39mcategory_id\u001b[39m\u001b[39m'\u001b[39m]\u001b[39m}\u001b[39;00m\u001b[39m-\u001b[39m\u001b[39m{\u001b[39;00m\u001b[39mself\u001b[39m\u001b[39m.\u001b[39m_category_stats[\u001b[39m'\u001b[39m\u001b[39mcategory\u001b[39m\u001b[39m'\u001b[39m]\u001b[39m}\u001b[39;00m\u001b[39m\\\u001b[39;00m\n\u001b[1;32m    323\u001b[0m \u001b[39m        \u001b[39m\u001b[39m\\t\u001b[39;00m\u001b[39mApps: \u001b[39m\u001b[39m{\u001b[39;00m\u001b[39mself\u001b[39m\u001b[39m.\u001b[39m_category_stats[\u001b[39m'\u001b[39m\u001b[39mapp_count\u001b[39m\u001b[39m'\u001b[39m]\u001b[39m}\u001b[39;00m\u001b[39m\\t\u001b[39;00m\u001b[39mReviews: \u001b[39m\u001b[39m{\u001b[39;00m\u001b[39mself\u001b[39m\u001b[39m.\u001b[39m_category_stats[\u001b[39m'\u001b[39m\u001b[39mreviews\u001b[39m\u001b[39m'\u001b[39m]\u001b[39m}\u001b[39;00m\u001b[39m\\\u001b[39;00m\n\u001b[1;32m    324\u001b[0m \u001b[39m        \u001b[39m\u001b[39m\\t\u001b[39;00m\u001b[39mElapsed Time: \u001b[39m\u001b[39m{\u001b[39;00m\u001b[39mself\u001b[39m\u001b[39m.\u001b[39m_category_stats[\u001b[39m'\u001b[39m\u001b[39mduration\u001b[39m\u001b[39m'\u001b[39m]\u001b[39m}\u001b[39;00m\u001b[39m\\\u001b[39;00m\n\u001b[0;32m--> 325\u001b[0m \u001b[39m        \u001b[39m\u001b[39m\\t\u001b[39;00m\u001b[39mRate: \u001b[39m\u001b[39m{\u001b[39;00m\u001b[39mself\u001b[39m\u001b[39m.\u001b[39m_project_stats[\u001b[39m'\u001b[39m\u001b[39mreviews_per_second\u001b[39m\u001b[39m'\u001b[39m]\u001b[39m}\u001b[39;00m\u001b[39m reviews/second.\u001b[39m\u001b[39m\"\u001b[39m\n\u001b[1;32m    326\u001b[0m     \u001b[39mself\u001b[39m\u001b[39m.\u001b[39m_logger\u001b[39m.\u001b[39minfo(msg)\n",
      "\u001b[0;31mKeyError\u001b[0m: 'reviews_per_second'"
     ]
    }
   ],
   "source": [
    "ctrl = ReviewController()\n",
    "ctrl.scrape(category_ids=CATEGORIES)\n"
   ]
  },
  {
   "attachments": {},
   "cell_type": "markdown",
   "metadata": {},
   "source": [
    "### Review Summary"
   ]
  },
  {
   "cell_type": "code",
   "execution_count": null,
   "metadata": {},
   "outputs": [],
   "source": [
    "ctrl.summarize()\n",
    "ctrl.archive()"
   ]
  }
 ],
 "metadata": {
  "kernelspec": {
   "display_name": "aimobile",
   "language": "python",
   "name": "python3"
  },
  "language_info": {
   "codemirror_mode": {
    "name": "ipython",
    "version": 3
   },
   "file_extension": ".py",
   "mimetype": "text/x-python",
   "name": "python",
   "nbconvert_exporter": "python",
   "pygments_lexer": "ipython3",
   "version": "3.10.11"
  },
  "orig_nbformat": 4
 },
 "nbformat": 4,
 "nbformat_minor": 2
}
