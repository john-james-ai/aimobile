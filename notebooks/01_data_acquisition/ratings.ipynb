{
 "cells": [
  {
   "attachments": {},
   "cell_type": "markdown",
   "metadata": {},
   "source": [
    "# AppStore Ratings\n",
    "App Store apps are rated on a five-star scale. In this section, we extract the number of ratings on each of the five-points of the scale, as well as the total ratings and reviews.  \n",
    "\n",
    "The AppStore Review entity is defined as follows.  \n",
    "\n",
    "| #  | name        | description                                    | api_field            |\n",
    "|----|-------------|------------------------------------------------|----------------------|\n",
    "| 1  | id          | Unique app identifier                          | adamId               |\n",
    "| 2  | name        | App name                                       | name                 |\n",
    "| 3  | category_id | Four digit IOS category identifier             | categoryId           |\n",
    "| 4  | category    | The category in text                           | category             |\n",
    "| 5  | rating      | Average rating                                 | ratingAverage        |\n",
    "| 6  | reviews     | The total number of reviews                    | totalNumberOfReviews |\n",
    "| 7  | ratings     | The total number of ratings                    | ratingCount          |\n",
    "| 8  | onestar     | The count of one star ratings                  | ratingCountList      |\n",
    "| 9  | twostar     | The count of two star ratings                  | ratingCountList      |\n",
    "| 10 | threestar   | The count of three star ratings                | ratingCountList      |\n",
    "| 11 | fourstar    | The count of four star ratings                 | ratingCountList      |\n",
    "| 12 | fivestar    | The count of five star ratings                 | ratingCountList      |\n",
    "| 13 | source      | The base url from which the data were obtained | itunes.apple.com     |\n",
    "\n",
    "Ratings will be extracted by category of apps in the appdata repository. Concretely, ratings will be obtained for the following categories:\n",
    "\n",
    "| ID   | NAME                   |\n",
    "|------|------------------------|\n",
    "| 6018 |  \"BOOKS\",              |\n",
    "| 6000 |  \"BUSINESS\",           |\n",
    "| 6017 |  \"EDUCATION\",          |\n",
    "| 6016 |  \"ENTERTAINMENT\",      |\n",
    "| 6015 |  \"FINANCE\",            |\n",
    "| 6023 |  \"FOOD_AND_DRINK\",     |\n",
    "| 6013 |  \"HEALTH_AND_FITNESS\", |\n",
    "| 6012 |  \"LIFESTYLE\",          |\n",
    "| 6020 |  \"MEDICAL\",            |\n",
    "| 6011 |  \"MUSIC\",              |\n",
    "| 6008 |  \"PHOTO_AND_VIDEO\",    |\n",
    "| 6007 |  \"PRODUCTIVITY\",       |\n",
    "| 6006 |  \"REFERENCE\",          |\n",
    "| 6024 |  \"SHOPPING\",           |\n",
    "| 6005 |  \"SOCIAL_NETWORKING\",  |\n",
    "| 6003 |  \"TRAVEL\",             |\n",
    "| 6002 |  \"UTILITIES\",          |\n"
   ]
  },
  {
   "attachments": {},
   "cell_type": "markdown",
   "metadata": {},
   "source": [
    "**Imports**"
   ]
  },
  {
   "cell_type": "code",
   "execution_count": null,
   "metadata": {},
   "outputs": [],
   "source": [
    "import asyncio\n",
    "from aimobile.data.acquisition.rating.controller import AppStoreRatingController\n",
    "from aimobile.data.acquisition import AppStoreTargetCategories\n",
    "from aimobile.container import AIMobileContainer"
   ]
  },
  {
   "cell_type": "code",
   "execution_count": null,
   "metadata": {},
   "outputs": [],
   "source": [
    "CATEGORIES = AppStoreTargetCategories.IDS"
   ]
  },
  {
   "attachments": {},
   "cell_type": "markdown",
   "metadata": {},
   "source": [
    "## AppStore Ratings\n",
    "AppStoreRatingController iterates through the categories, extracting the apps from the repository and retrieves the rating data from the App Store. The results are persisted in the AppStoreRatingRepo."
   ]
  },
  {
   "cell_type": "code",
   "execution_count": null,
   "metadata": {},
   "outputs": [],
   "source": [
    "async def wire():\n",
    "    container = AIMobileContainer()\n",
    "    container.init_resources()\n",
    "    container.wire(packages=[\"aimobile.data.acquisition\"])\n",
    "\n",
    "async def scrape():\n",
    "    ctrl = AppStoreRatingController()\n",
    "    await ctrl.scrape(category_ids=CATEGORIES)\n",
    "    ctrl.summarize()\n",
    "    ctrl.archive()\n",
    "\n",
    "async def main():\n",
    "    await asyncio.gather(wire(), scrape())\n",
    "\n",
    "await main()"
   ]
  },
  {
   "attachments": {},
   "cell_type": "markdown",
   "metadata": {},
   "source": [
    "### Rating Summary"
   ]
  }
 ],
 "metadata": {
  "kernelspec": {
   "display_name": "aimobile",
   "language": "python",
   "name": "python3"
  },
  "language_info": {
   "codemirror_mode": {
    "name": "ipython",
    "version": 3
   },
   "file_extension": ".py",
   "mimetype": "text/x-python",
   "name": "python",
   "nbconvert_exporter": "python",
   "pygments_lexer": "ipython3",
   "version": "3.10.10"
  },
  "orig_nbformat": 4
 },
 "nbformat": 4,
 "nbformat_minor": 2
}
