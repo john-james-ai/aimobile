{
 "cells": [
  {
   "attachments": {},
   "cell_type": "markdown",
   "metadata": {},
   "source": [
    "# AppStore Reviews\n",
    "As of 2022, the average number of reviews per IOS app was 455. This notebook, extracts user reviews of IOS apps defined as follows:\n",
    "\n",
    "## AppStore Review Entity\n",
    "The AppStore Review entity is defined as follows.  \n",
    "\n",
    "| #  | name        | description                                          | api_field                    |\n",
    "|----|-------------|------------------------------------------------------|------------------------------|\n",
    "| 1  | id          | Unique review identifier                             | userReviewId                 |\n",
    "| 2  | app_id      | Unique identifier for the app                        | from appstore['id']          |\n",
    "| 3  | app_name    | Name of app                                          | from appstore['name']        |\n",
    "| 4  | category_id | Four digit category identifier                       | from appstore['category_id'] |\n",
    "| 5  | category    | Category label                                       | from appstore['category']    |\n",
    "| 6  | author      | Review author                                        | name                         |\n",
    "| 7  | rating      | Rating accompanying the review                       | rating                       |\n",
    "| 8  | title       | Brief description of the review                      | title                        |\n",
    "| 9  | content     | Review text                                          | body                         |\n",
    "| 10 | vote_sum    | The number of customers who found the review helpful | voteSum                      |\n",
    "| 11 | vote_count  | The total number of customers who voted (yes/no)     | voteCount                    |\n",
    "| 12 | date        | Datetime of review                                   | date                         |\n",
    "| 13 | source      | The base url                                         | itunes.apple.com             |\n",
    "\n",
    "Reviews will be extracted by category of apps in the appdata repository. Concretely, reviews will be obtained for the following categories:\n",
    "\n",
    "| category_id | category               |\n",
    "|-------------|------------------------|\n",
    "| 6000        |  \"BUSINESS\",           |\n",
    "| 6017        |  \"EDUCATION\",          |\n",
    "| 6016        |  \"ENTERTAINMENT\",      |\n",
    "| 6013        |  \"HEALTH_AND_FITNESS\", |\n",
    "| 6012        |  \"LIFESTYLE\",          |\n",
    "| 6020        |  \"MEDICAL\",            |\n",
    "| 6007        |  \"PRODUCTIVITY\",       |\n",
    "| 6005        |  \"SOCIAL_NETWORKING\",  |\n"
   ]
  },
  {
   "attachments": {},
   "cell_type": "markdown",
   "metadata": {},
   "source": [
    "### Imports"
   ]
  },
  {
   "cell_type": "code",
   "execution_count": 1,
   "metadata": {},
   "outputs": [],
   "source": [
    "from aimobile.data.acquisition.Project import AppProject, AppStoreReviewProject\n",
    "from aimobile.container import AIMobileContainer"
   ]
  },
  {
   "cell_type": "code",
   "execution_count": null,
   "metadata": {},
   "outputs": [],
   "source": [
    "CATEGORIES = [6012, 6020, 6007, 6005, 6000, 6017, 6016]\n",
    "CATEGORIES_COMPLETE = [6013]"
   ]
  },
  {
   "attachments": {},
   "cell_type": "markdown",
   "metadata": {},
   "source": [
    "### Dependencies"
   ]
  },
  {
   "cell_type": "code",
   "execution_count": 2,
   "metadata": {},
   "outputs": [],
   "source": [
    "container = AIMobileContainer()\n",
    "container.init_resources()\n",
    "container.wire(packages=[\"aimobile.data.acquisition\"])"
   ]
  },
  {
   "attachments": {},
   "cell_type": "markdown",
   "metadata": {},
   "source": [
    "### Review Page\n",
    "AppStoreReviewProject manages the extraction of review data from the App Store. Iterating through the CATEGORIES above, a scraper returns review data for each app in the repository, by category. As before, the results are stored in an RDBMS and archived."
   ]
  },
  {
   "cell_type": "code",
   "execution_count": null,
   "metadata": {},
   "outputs": [],
   "source": [
    "Project = AppStoreReviewProject()\n",
    "Project.scrape(category_ids=CATEGORIES)\n",
    "Project.summarize()\n",
    "Project.archive()"
   ]
  },
  {
   "attachments": {},
   "cell_type": "markdown",
   "metadata": {},
   "source": [
    "### Review Summary"
   ]
  },
  {
   "cell_type": "code",
   "execution_count": 3,
   "metadata": {},
   "outputs": [
    {
     "data": {
      "text/html": [
       "<div>\n",
       "<style scoped>\n",
       "    .dataframe tbody tr th:only-of-type {\n",
       "        vertical-align: middle;\n",
       "    }\n",
       "\n",
       "    .dataframe tbody tr th {\n",
       "        vertical-align: top;\n",
       "    }\n",
       "\n",
       "    .dataframe thead th {\n",
       "        text-align: right;\n",
       "    }\n",
       "</style>\n",
       "<table border=\"1\" class=\"dataframe\">\n",
       "  <thead>\n",
       "    <tr style=\"text-align: right;\">\n",
       "      <th></th>\n",
       "      <th>id</th>\n",
       "      <th>app_id</th>\n",
       "      <th>app_name</th>\n",
       "      <th>category_id</th>\n",
       "      <th>category</th>\n",
       "      <th>author</th>\n",
       "      <th>rating</th>\n",
       "      <th>title</th>\n",
       "      <th>content</th>\n",
       "      <th>vote_sum</th>\n",
       "      <th>vote_count</th>\n",
       "      <th>date</th>\n",
       "      <th>source</th>\n",
       "    </tr>\n",
       "  </thead>\n",
       "  <tbody>\n",
       "  </tbody>\n",
       "</table>\n",
       "</div>"
      ],
      "text/plain": [
       "Empty DataFrame\n",
       "Columns: [id, app_id, app_name, category_id, category, author, rating, title, content, vote_sum, vote_count, date, source]\n",
       "Index: []"
      ]
     },
     "execution_count": 3,
     "metadata": {},
     "output_type": "execute_result"
    }
   ],
   "source": [
    "uow = container.data.uow()\n",
    "repo = uow.review_repository\n",
    "df = repo.getall()"
   ]
  },
  {
   "cell_type": "code",
   "execution_count": null,
   "metadata": {},
   "outputs": [],
   "source": [
    "df.info()\n",
    "df.head()\n",
    "df.tail()"
   ]
  }
 ],
 "metadata": {
  "kernelspec": {
   "display_name": "aimobile",
   "language": "python",
   "name": "python3"
  },
  "language_info": {
   "codemirror_mode": {
    "name": "ipython",
    "version": 3
   },
   "file_extension": ".py",
   "mimetype": "text/x-python",
   "name": "python",
   "nbconvert_exporter": "python",
   "pygments_lexer": "ipython3",
   "version": "3.10.10"
  },
  "orig_nbformat": 4
 },
 "nbformat": 4,
 "nbformat_minor": 2
}
