{
 "cells": [
  {
   "attachments": {},
   "cell_type": "markdown",
   "metadata": {},
   "source": [
    "# Exploratory Data Analysis\n",
    "As of May 2023, Apple's App Store offered over 1.76 million apps across 70 categories, accounting for over 62% of the global revenue share in 2022. This iterative, yet lean, exploratory data analysis (EDA) of over 300,000 apps across 26 categories aims to discover patterns, trends and clusters of opinion, and to generate actionable, high-impact insights for opportunity discover and analysis.\n",
    "\n",
    "> “Far better an approximate answer to the right question, which is often vague, than an exact answer to the wrong question, which can always be made precise.” — John Tukey\n",
    "\n",
    "The EDA is guided by the following nine, intentionally vague, yet provoking questions to stimulate discovery of the unknown, latent, yet high-impact/high-value, customer experience in an iterative, and likely chaotic learning process, given the available data.\n",
    "\n",
    "1. What best characterizes the nature of customer opinion within the mobile app market today?  \n",
    "2. What best describes the intensity of customer opinion?\n",
    "3. How does opinion and customer satisfaction vary across mobile app markets and categories? \n",
    "4. In what ways does the nature and intensity of opinion correlate, overall, within and across categories?\n",
    "5. Are their clusters revealed by the nature and intensity of opinion?   \n",
    "6. How and in which ways has opinion changed or evolved over time?\n",
    "7. Where is customer opinion most varied? Most similar?\n",
    "8. Does the distribution of rating and rating volume reveal any clustering of app creators / developers?\n",
    "9. To what degree do these data expose, and quantify unmet needs, and empower opportunity discovery?\n",
    "\n",
    "This two-part EDA is organized around the two primary sources of data for this endeavor.\n",
    "1. [AppData EDA](notebooks/02_data_analysis/021_appdata.ipynb): Exploratory *quantitative* data analysis of rating data, vis-a-vis, apps, within and across categories, and developers as they manifest over time.\n",
    "2. [Review EDA](notebooks/02_data_analysis/022_reviews.ipynb): Exploratory *qualitative* content, sentiment, intensity, and emotion analysis of review data.\n",
    "\n"
   ]
  }
 ],
 "metadata": {
  "kernelspec": {
   "display_name": "aimobile",
   "language": "python",
   "name": "python3"
  },
  "language_info": {
   "codemirror_mode": {
    "name": "ipython",
    "version": 3
   },
   "file_extension": ".py",
   "mimetype": "text/x-python",
   "name": "python",
   "nbconvert_exporter": "python",
   "pygments_lexer": "ipython3",
   "version": "3.10.11"
  },
  "orig_nbformat": 4
 },
 "nbformat": 4,
 "nbformat_minor": 2
}
