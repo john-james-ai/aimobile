{
 "cells": [
  {
   "attachments": {},
   "cell_type": "markdown",
   "metadata": {},
   "source": [
    "# Database\n",
    "Includes three tables (so far):\n",
    "- Project: One row per search project.\n",
    "- Request: One row per HTTP request.\n",
    "- AppData: Includes one row per app "
   ]
  },
  {
   "cell_type": "code",
   "execution_count": 1,
   "metadata": {},
   "outputs": [],
   "source": [
    "from aimobile.scraper.appstore.container import AppStoreContainer"
   ]
  },
  {
   "cell_type": "code",
   "execution_count": 2,
   "metadata": {},
   "outputs": [],
   "source": [
    "!python3 aimobile.py"
   ]
  },
  {
   "attachments": {},
   "cell_type": "markdown",
   "metadata": {},
   "source": [
    "## Projects"
   ]
  },
  {
   "cell_type": "code",
   "execution_count": 3,
   "metadata": {},
   "outputs": [
    {
     "ename": "AttributeError",
     "evalue": "'dependency_injector.providers.Singleton' object has no attribute 'project_repository'",
     "output_type": "error",
     "traceback": [
      "\u001b[0;31m---------------------------------------------------------------------------\u001b[0m",
      "\u001b[0;31mAttributeError\u001b[0m                            Traceback (most recent call last)",
      "Cell \u001b[0;32mIn[3], line 2\u001b[0m\n\u001b[1;32m      1\u001b[0m dc \u001b[39m=\u001b[39m AppStoreContainer\u001b[39m.\u001b[39mdatacentre\u001b[39m.\u001b[39mrepo\n\u001b[0;32m----> 2\u001b[0m dc\u001b[39m.\u001b[39;49mproject_repository\u001b[39m.\u001b[39mgetall()\n",
      "\u001b[0;31mAttributeError\u001b[0m: 'dependency_injector.providers.Singleton' object has no attribute 'project_repository'"
     ]
    }
   ],
   "source": [
    "dc = AppStoreContainer.datacentre.repo()\n",
    "dc.project_repository.getall()\n"
   ]
  }
 ],
 "metadata": {
  "kernelspec": {
   "display_name": "aimobile",
   "language": "python",
   "name": "python3"
  },
  "language_info": {
   "codemirror_mode": {
    "name": "ipython",
    "version": 3
   },
   "file_extension": ".py",
   "mimetype": "text/x-python",
   "name": "python",
   "nbconvert_exporter": "python",
   "pygments_lexer": "ipython3",
   "version": "3.10.10"
  },
  "orig_nbformat": 4
 },
 "nbformat": 4,
 "nbformat_minor": 2
}
