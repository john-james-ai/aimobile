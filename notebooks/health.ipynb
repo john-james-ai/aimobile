{
 "cells": [
  {
   "attachments": {},
   "cell_type": "markdown",
   "metadata": {},
   "source": [
    "# Health"
   ]
  },
  {
   "cell_type": "code",
   "execution_count": null,
   "metadata": {},
   "outputs": [],
   "source": [
    "import json\n",
    "from serpapi import GoogleSearch"
   ]
  },
  {
   "cell_type": "code",
   "execution_count": null,
   "metadata": {},
   "outputs": [],
   "source": [
    "params = {\n",
    "  \"engine\": \"apple_app_store\",\n",
    "  \"term\": \"Health\",\n",
    "  \"country\": \"us\",\n",
    "  \"lang\": \"en-us\",\n",
    "  \"num\": \"999999999999\",\n",
    "  \"page\": 2,\n",
    "  \"no_cache\": \"true\",\n",
    "  \"device\": \"tablet\",\n",
    "  \"api_key\": \"c023fad52982e3ff882753de49236f1883146ac827ec4276ada1578f649b5e9c\"\n",
    "}\n",
    "\n",
    "search = GoogleSearch(params)\n",
    "results = search.get_dict()"
   ]
  },
  {
   "cell_type": "code",
   "execution_count": null,
   "metadata": {},
   "outputs": [],
   "source": [
    "\n",
    "FILEPATH = \"data/apple/health2.py\"\n",
    "with open(FILEPATH, 'w') as health:\n",
    "    health.write(json.dumps(results))\n"
   ]
  },
  {
   "cell_type": "code",
   "execution_count": null,
   "metadata": {},
   "outputs": [],
   "source": [
    "results[\"serpapi_pagination\"][\"next\"]"
   ]
  }
 ],
 "metadata": {
  "kernelspec": {
   "display_name": "aimobile",
   "language": "python",
   "name": "python3"
  },
  "language_info": {
   "codemirror_mode": {
    "name": "ipython",
    "version": 3
   },
   "file_extension": ".py",
   "mimetype": "text/x-python",
   "name": "python",
   "nbconvert_exporter": "python",
   "pygments_lexer": "ipython3",
   "version": "3.10.10"
  },
  "orig_nbformat": 4
 },
 "nbformat": 4,
 "nbformat_minor": 2
}
