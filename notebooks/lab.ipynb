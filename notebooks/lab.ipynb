{
 "cells": [
  {
   "cell_type": "code",
   "execution_count": 1,
   "metadata": {},
   "outputs": [],
   "source": [
    "from aimobile.container import AIMobileContainer"
   ]
  },
  {
   "cell_type": "code",
   "execution_count": 2,
   "metadata": {},
   "outputs": [],
   "source": [
    "container = AIMobileContainer()\n",
    "container.init_resources()\n",
    "container.wire(\n",
    "    modules=[\n",
    "        __name__,\n",
    "        \"aimobile.container\",\n",
    "        \"aimobile.service.appstore\",\n",
    "        \"aimobile.service.appstore.review\",\n",
    "    ]\n",
    ")"
   ]
  },
  {
   "cell_type": "code",
   "execution_count": 3,
   "metadata": {},
   "outputs": [
    {
     "name": "stdout",
     "output_type": "stream",
     "text": [
      "<class 'pandas.core.frame.DataFrame'>\n",
      "RangeIndex: 80 entries, 0 to 79\n",
      "Data columns (total 13 columns):\n",
      " #   Column       Non-Null Count  Dtype \n",
      "---  ------       --------------  ----- \n",
      " 0   id           80 non-null     object\n",
      " 1   app_id       80 non-null     int64 \n",
      " 2   app_name     80 non-null     object\n",
      " 3   category_id  80 non-null     int64 \n",
      " 4   category     80 non-null     object\n",
      " 5   author       80 non-null     object\n",
      " 6   rating       80 non-null     int64 \n",
      " 7   title        80 non-null     object\n",
      " 8   content      80 non-null     object\n",
      " 9   vote_sum     80 non-null     int64 \n",
      " 10  vote_count   80 non-null     int64 \n",
      " 11  date         80 non-null     object\n",
      " 12  source       80 non-null     object\n",
      "dtypes: int64(5), object(8)\n",
      "memory usage: 8.2+ KB\n"
     ]
    }
   ],
   "source": [
    "repo = container.appstore.review_repo()\n",
    "df = repo.getall()\n",
    "df.info()"
   ]
  },
  {
   "cell_type": "code",
   "execution_count": 18,
   "metadata": {},
   "outputs": [
    {
     "data": {
      "text/html": [
       "<div>\n",
       "<style scoped>\n",
       "    .dataframe tbody tr th:only-of-type {\n",
       "        vertical-align: middle;\n",
       "    }\n",
       "\n",
       "    .dataframe tbody tr th {\n",
       "        vertical-align: top;\n",
       "    }\n",
       "\n",
       "    .dataframe thead th {\n",
       "        text-align: right;\n",
       "    }\n",
       "</style>\n",
       "<table border=\"1\" class=\"dataframe\">\n",
       "  <thead>\n",
       "    <tr style=\"text-align: right;\">\n",
       "      <th></th>\n",
       "      <th>category</th>\n",
       "      <th>count</th>\n",
       "      <th>app_id</th>\n",
       "      <th>rating</th>\n",
       "    </tr>\n",
       "  </thead>\n",
       "  <tbody>\n",
       "    <tr>\n",
       "      <th>0</th>\n",
       "      <td>Health &amp; Fitness</td>\n",
       "      <td>80</td>\n",
       "      <td>8</td>\n",
       "      <td>4.03</td>\n",
       "    </tr>\n",
       "  </tbody>\n",
       "</table>\n",
       "</div>"
      ],
      "text/plain": [
       "           category  count  app_id  rating\n",
       "0  Health & Fitness     80       8    4.03"
      ]
     },
     "execution_count": 18,
     "metadata": {},
     "output_type": "execute_result"
    }
   ],
   "source": [
    "import pandas as pd\n",
    "summary = df[\"category\"].value_counts().reset_index()\n",
    "df2 = df.groupby(by=\"category\")['app_id'].nunique().to_frame()\n",
    "df3 = df.groupby(by=\"category\")['rating'].mean().to_frame()\n",
    "summary = summary.join(df2, on='category')\n",
    "summary = summary.join(df3, on='category')\n",
    "summary.columns = [\"Category\", \"Reviews\", \"Apps\", \"Ave Rating\"]"
   ]
  }
 ],
 "metadata": {
  "kernelspec": {
   "display_name": "aimobile",
   "language": "python",
   "name": "python3"
  },
  "language_info": {
   "codemirror_mode": {
    "name": "ipython",
    "version": 3
   },
   "file_extension": ".py",
   "mimetype": "text/x-python",
   "name": "python",
   "nbconvert_exporter": "python",
   "pygments_lexer": "ipython3",
   "version": "3.10.10"
  },
  "orig_nbformat": 4
 },
 "nbformat": 4,
 "nbformat_minor": 2
}
