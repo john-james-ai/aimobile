{
 "cells": [
  {
   "cell_type": "code",
   "execution_count": 1,
   "metadata": {},
   "outputs": [],
   "source": [
    "from aimobile.data.scraper.appstore.service.appdata import AppStoreScraper"
   ]
  },
  {
   "cell_type": "code",
   "execution_count": 2,
   "metadata": {},
   "outputs": [],
   "source": [
    "PROJECT_NAME = 'Alpha'\n",
    "PROJECT_DESCRIPTION = \"Alpha version, testing requests and responses\"\n",
    "NUM_RESULTS_PER_PAGE = 10\n",
    "PAGES = 5"
   ]
  },
  {
   "cell_type": "code",
   "execution_count": 3,
   "metadata": {},
   "outputs": [],
   "source": [
    "scraper = AppStoreScraper(project_name=PROJECT_NAME, project_description=PROJECT_DESCRIPTION, num_results_per_page=NUM_RESULTS_PER_PAGE, pages=PAGES)\n",
    "result = scraper.search(term='health')\n",
    "print(result)\n",
    "\n",
    "\n"
   ]
  },
  {
   "cell_type": "code",
   "execution_count": 1,
   "metadata": {},
   "outputs": [
    {
     "data": {
      "text/plain": [
       "True"
      ]
     },
     "execution_count": 1,
     "metadata": {},
     "output_type": "execute_result"
    },
    {
     "name": "stdout",
     "output_type": "stream",
     "text": [
      "j2sventures%40protonmail.com:kfz2d93n3c@\n"
     ]
    }
   ],
   "source": [
    "from dotenv import load_dotenv\n",
    "import os\n",
    "load_dotenv()\n",
    "http = os.getenv(\"VPN_PROXY_HTTP\")\n",
    "https = os.getenv(\"VPN_PROXY_HTTPS\")\n",
    "print(http)\n"
   ]
  },
  {
   "cell_type": "code",
   "execution_count": 6,
   "metadata": {},
   "outputs": [
    {
     "ename": "TypeError",
     "evalue": "'>' not supported between instances of 'datetime.datetime' and 'str'",
     "output_type": "error",
     "traceback": [
      "\u001b[0;31m---------------------------------------------------------------------------\u001b[0m",
      "\u001b[0;31mTypeError\u001b[0m                                 Traceback (most recent call last)",
      "Cell \u001b[0;32mIn[6], line 6\u001b[0m\n\u001b[1;32m      4\u001b[0m dtstr2 \u001b[39m=\u001b[39m \u001b[39m\"\u001b[39m\u001b[39m2023-04-09T23:58x:46-07:00\u001b[39m\u001b[39m\"\u001b[39m\n\u001b[1;32m      5\u001b[0m datetime_object \u001b[39m=\u001b[39m datetime\u001b[39m.\u001b[39mfromisoformat(dtstr)\n\u001b[0;32m----> 6\u001b[0m \u001b[39mif\u001b[39;00m datetime_object \u001b[39m>\u001b[39;49m dtstr2:\n\u001b[1;32m      7\u001b[0m     \u001b[39mprint\u001b[39m(\u001b[39mTrue\u001b[39;00m)\n",
      "\u001b[0;31mTypeError\u001b[0m: '>' not supported between instances of 'datetime.datetime' and 'str'"
     ]
    }
   ],
   "source": [
    "from datetime import datetime\n",
    "from dateutil import parser\n",
    "dtstr = \"2023-04-09T23:58:46-07:00\"\n",
    "dtstr2 = \"2023-04-09T23:58x:46-07:00\"\n",
    "datetime_object = datetime.fromisoformat(dtstr)\n",
    "if datetime_object > dtstr2:\n",
    "    print(True)\n",
    "\n"
   ]
  }
 ],
 "metadata": {
  "kernelspec": {
   "display_name": "aimobile",
   "language": "python",
   "name": "python3"
  },
  "language_info": {
   "codemirror_mode": {
    "name": "ipython",
    "version": 3
   },
   "file_extension": ".py",
   "mimetype": "text/x-python",
   "name": "python",
   "nbconvert_exporter": "python",
   "pygments_lexer": "ipython3",
   "version": "3.10.10"
  },
  "orig_nbformat": 4,
  "vscode": {
   "interpreter": {
    "hash": "fa85ef51e7c57ae7a0dcc04c87863a357c7d660d8d5d0c8f4bc570ab1c9b5145"
   }
  }
 },
 "nbformat": 4,
 "nbformat_minor": 2
}
