{
 "cells": [
  {
   "attachments": {},
   "cell_type": "markdown",
   "metadata": {},
   "source": [
    "# App Data\n",
    "Obtains app data for testing "
   ]
  },
  {
   "cell_type": "code",
   "execution_count": 1,
   "metadata": {},
   "outputs": [],
   "source": [
    "import os\n",
    "import pandas as pd\n",
    "from aimobile.container import AIMobileContainer\n",
    "from aimobile.infrastructure.io.local import IOService"
   ]
  },
  {
   "cell_type": "code",
   "execution_count": 2,
   "metadata": {},
   "outputs": [],
   "source": [
    "container = AIMobileContainer()\n",
    "container.init_resources()\n",
    "container.wire(packages=[\"aimobile.data.acquisition.appstore\"])"
   ]
  },
  {
   "cell_type": "code",
   "execution_count": 3,
   "metadata": {},
   "outputs": [
    {
     "name": "stdout",
     "output_type": "stream",
     "text": [
      "<class 'pandas.core.frame.DataFrame'>\n",
      "RangeIndex: 894780 entries, 0 to 894779\n",
      "Data columns (total 12 columns):\n",
      " #   Column        Non-Null Count   Dtype  \n",
      "---  ------        --------------   -----  \n",
      " 0   id            894780 non-null  int64  \n",
      " 1   name          894780 non-null  object \n",
      " 2   description   894780 non-null  object \n",
      " 3   category_id   894780 non-null  int64  \n",
      " 4   category      894780 non-null  object \n",
      " 5   price         894780 non-null  float64\n",
      " 6   developer_id  894780 non-null  int64  \n",
      " 7   developer     894780 non-null  object \n",
      " 8   rating        894780 non-null  float64\n",
      " 9   ratings       894780 non-null  int64  \n",
      " 10  released      894780 non-null  object \n",
      " 11  source        894780 non-null  object \n",
      "dtypes: float64(2), int64(4), object(6)\n",
      "memory usage: 81.9+ MB\n"
     ]
    },
    {
     "name": "stderr",
     "output_type": "stream",
     "text": [
      "[05/07/2023 10:20:39 AM] [DEBUG] [AppStoreAppDataRepo] [replace] : Replace appdata repository data with 894780 rows.\n"
     ]
    },
    {
     "name": "stdout",
     "output_type": "stream",
     "text": [
      "Replaced 894780 rows.\n",
      "<class 'pandas.core.frame.DataFrame'>\n",
      "RangeIndex: 894780 entries, 0 to 894779\n",
      "Data columns (total 12 columns):\n",
      " #   Column        Non-Null Count   Dtype  \n",
      "---  ------        --------------   -----  \n",
      " 0   id            894780 non-null  int64  \n",
      " 1   name          894780 non-null  object \n",
      " 2   description   894780 non-null  object \n",
      " 3   category_id   894780 non-null  int64  \n",
      " 4   category      894780 non-null  object \n",
      " 5   price         894780 non-null  float64\n",
      " 6   developer_id  894780 non-null  int64  \n",
      " 7   developer     894780 non-null  object \n",
      " 8   rating        894780 non-null  float64\n",
      " 9   ratings       894780 non-null  int64  \n",
      " 10  released      894780 non-null  object \n",
      " 11  source        894780 non-null  object \n",
      "dtypes: float64(2), int64(4), object(6)\n",
      "memory usage: 81.9+ MB\n"
     ]
    }
   ],
   "source": [
    "repo = container.data.appdata_repo()\n",
    "FP = \"data/appstore/archive/appdata_05-01-2023_19-31-13.pkl\"\n",
    "df = IOService.read(FP)\n",
    "df.info()\n",
    "repo.replace(data=df)\n",
    "print(f\"Replaced {df.shape[0]} rows.\")\n",
    "df = repo.getall()\n",
    "df.info()"
   ]
  }
 ],
 "metadata": {
  "kernelspec": {
   "display_name": "aimobile",
   "language": "python",
   "name": "python3"
  },
  "language_info": {
   "codemirror_mode": {
    "name": "ipython",
    "version": 3
   },
   "file_extension": ".py",
   "mimetype": "text/x-python",
   "name": "python",
   "nbconvert_exporter": "python",
   "pygments_lexer": "ipython3",
   "version": "3.10.10"
  },
  "orig_nbformat": 4
 },
 "nbformat": 4,
 "nbformat_minor": 2
}
