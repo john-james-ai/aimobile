{
 "cells": [
  {
   "cell_type": "code",
   "execution_count": 1,
   "metadata": {},
   "outputs": [],
   "source": [
    "from aimobile.container import AIMobileContainer"
   ]
  },
  {
   "cell_type": "code",
   "execution_count": 2,
   "metadata": {},
   "outputs": [],
   "source": [
    "container = AIMobileContainer()\n",
    "container.init_resources()\n",
    "container.wire(\n",
    "    modules=[\n",
    "        __name__,\n",
    "        \"aimobile.container\",\n",
    "        \"aimobile.data.acquisition.appstore\",\n",
    "        \"aimobile.data.acquisition.appstore.review\",\n",
    "    ]\n",
    ")"
   ]
  },
  {
   "cell_type": "code",
   "execution_count": 3,
   "metadata": {},
   "outputs": [
    {
     "name": "stdout",
     "output_type": "stream",
     "text": [
      "<class 'pandas.core.frame.DataFrame'>\n",
      "RangeIndex: 6371840 entries, 0 to 6371839\n",
      "Data columns (total 13 columns):\n",
      " #   Column       Dtype \n",
      "---  ------       ----- \n",
      " 0   id           object\n",
      " 1   app_id       int64 \n",
      " 2   app_name     object\n",
      " 3   category_id  int64 \n",
      " 4   category     object\n",
      " 5   author       object\n",
      " 6   rating       int64 \n",
      " 7   title        object\n",
      " 8   content      object\n",
      " 9   vote_sum     int64 \n",
      " 10  vote_count   int64 \n",
      " 11  date         object\n",
      " 12  source       object\n",
      "dtypes: int64(5), object(8)\n",
      "memory usage: 632.0+ MB\n"
     ]
    },
    {
     "data": {
      "text/html": [
       "<div>\n",
       "<style scoped>\n",
       "    .dataframe tbody tr th:only-of-type {\n",
       "        vertical-align: middle;\n",
       "    }\n",
       "\n",
       "    .dataframe tbody tr th {\n",
       "        vertical-align: top;\n",
       "    }\n",
       "\n",
       "    .dataframe thead th {\n",
       "        text-align: right;\n",
       "    }\n",
       "</style>\n",
       "<table border=\"1\" class=\"dataframe\">\n",
       "  <thead>\n",
       "    <tr style=\"text-align: right;\">\n",
       "      <th></th>\n",
       "      <th>id</th>\n",
       "      <th>count</th>\n",
       "    </tr>\n",
       "  </thead>\n",
       "  <tbody>\n",
       "    <tr>\n",
       "      <th>0</th>\n",
       "      <td>1158457475</td>\n",
       "      <td>12</td>\n",
       "    </tr>\n",
       "    <tr>\n",
       "      <th>1</th>\n",
       "      <td>1083667168</td>\n",
       "      <td>12</td>\n",
       "    </tr>\n",
       "    <tr>\n",
       "      <th>2</th>\n",
       "      <td>1314466961</td>\n",
       "      <td>12</td>\n",
       "    </tr>\n",
       "    <tr>\n",
       "      <th>3</th>\n",
       "      <td>1264269069</td>\n",
       "      <td>12</td>\n",
       "    </tr>\n",
       "    <tr>\n",
       "      <th>4</th>\n",
       "      <td>1633523690</td>\n",
       "      <td>12</td>\n",
       "    </tr>\n",
       "    <tr>\n",
       "      <th>...</th>\n",
       "      <td>...</td>\n",
       "      <td>...</td>\n",
       "    </tr>\n",
       "    <tr>\n",
       "      <th>5776164</th>\n",
       "      <td>8558804228</td>\n",
       "      <td>1</td>\n",
       "    </tr>\n",
       "    <tr>\n",
       "      <th>5776165</th>\n",
       "      <td>8590478264</td>\n",
       "      <td>1</td>\n",
       "    </tr>\n",
       "    <tr>\n",
       "      <th>5776166</th>\n",
       "      <td>8608455959</td>\n",
       "      <td>1</td>\n",
       "    </tr>\n",
       "    <tr>\n",
       "      <th>5776167</th>\n",
       "      <td>8616216180</td>\n",
       "      <td>1</td>\n",
       "    </tr>\n",
       "    <tr>\n",
       "      <th>5776168</th>\n",
       "      <td>551554468</td>\n",
       "      <td>1</td>\n",
       "    </tr>\n",
       "  </tbody>\n",
       "</table>\n",
       "<p>5776169 rows × 2 columns</p>\n",
       "</div>"
      ],
      "text/plain": [
       "                 id  count\n",
       "0        1158457475     12\n",
       "1        1083667168     12\n",
       "2        1314466961     12\n",
       "3        1264269069     12\n",
       "4        1633523690     12\n",
       "...             ...    ...\n",
       "5776164  8558804228      1\n",
       "5776165  8590478264      1\n",
       "5776166  8608455959      1\n",
       "5776167  8616216180      1\n",
       "5776168   551554468      1\n",
       "\n",
       "[5776169 rows x 2 columns]"
      ]
     },
     "execution_count": 3,
     "metadata": {},
     "output_type": "execute_result"
    }
   ],
   "source": [
    "repo = container.data.review_repo()\n",
    "df = repo.getall()\n",
    "df.info()\n",
    "df[\"id\"].value_counts().reset_index()"
   ]
  },
  {
   "cell_type": "code",
   "execution_count": 4,
   "metadata": {},
   "outputs": [],
   "source": [
    "import pandas as pd\n",
    "summary = df[\"category\"].value_counts().reset_index()\n",
    "df2 = df.groupby(by=\"category\")['app_id'].nunique().to_frame()\n",
    "df3 = df.groupby(by=\"category\")['rating'].mean().to_frame()\n",
    "summary = summary.join(df2, on='category')\n",
    "summary = summary.join(df3, on='category')\n",
    "summary.columns = [\"Category\", \"Reviews\", \"Apps\", \"Ave Rating\"]"
   ]
  },
  {
   "attachments": {},
   "cell_type": "markdown",
   "metadata": {},
   "source": [
    "## Autothrottle"
   ]
  },
  {
   "cell_type": "code",
   "execution_count": 5,
   "metadata": {},
   "outputs": [],
   "source": [
    "from scipy.stats import expon\n",
    "\n",
    "lambda_param = 0.5\n",
    "distribution = expon(scale = 1 / lambda_param)"
   ]
  },
  {
   "cell_type": "code",
   "execution_count": 6,
   "metadata": {},
   "outputs": [
    {
     "data": {
      "text/plain": [
       "[<matplotlib.lines.Line2D at 0x7fb0315400a0>]"
      ]
     },
     "execution_count": 6,
     "metadata": {},
     "output_type": "execute_result"
    },
    {
     "data": {
      "text/plain": [
       "Text(0.5, 1.0, 'Exponential distribution with lambda = 0.5')"
      ]
     },
     "execution_count": 6,
     "metadata": {},
     "output_type": "execute_result"
    },
    {
     "data": {
      "image/png": "[encoded data removed]",
      "text/plain": [
       "<Figure size 640x480 with 1 Axes>"
      ]
     },
     "metadata": {},
     "output_type": "display_data"
    }
   ],
   "source": [
    "import matplotlib.pyplot as plt\n",
    "import numpy as np\n",
    "\n",
    "x = np.linspace(0, 20, 2000)\n",
    "_, ax = plt.subplots(1, 1)\n",
    "ax.plot(x, distribution.pdf(x), '-', lw=2)\n",
    "plt.title('Exponential distribution with lambda = 0.5')\n",
    "plt.show()"
   ]
  },
  {
   "cell_type": "code",
   "execution_count": 7,
   "metadata": {},
   "outputs": [
    {
     "data": {
      "text/plain": [
       "array([[<Axes: title={'center': 'Exponential distribution, rate = 0.2, 10000 random values'}>]],\n",
       "      dtype=object)"
      ]
     },
     "execution_count": 7,
     "metadata": {},
     "output_type": "execute_result"
    },
    {
     "data": {
      "image/png": "[encoded data removed]",
      "text/plain": [
       "<Figure size 640x480 with 1 Axes>"
      ]
     },
     "metadata": {},
     "output_type": "display_data"
    }
   ],
   "source": [
    "generated_values = distribution.rvs(10000)\n",
    "\n",
    "import pandas as pd\n",
    "\n",
    "pd.DataFrame(\n",
    "    generated_values,\n",
    "    columns=[\"Exponential distribution, rate = 0.2, 10000 random values\"]\n",
    ").hist(bins = 50)"
   ]
  },
  {
   "cell_type": "code",
   "execution_count": 8,
   "metadata": {},
   "outputs": [
    {
     "data": {
      "text/plain": [
       "2"
      ]
     },
     "execution_count": 8,
     "metadata": {},
     "output_type": "execute_result"
    }
   ],
   "source": [
    "from datetime import datetime\n",
    "h = datetime.now().strftime(\"%H\")\n",
    "h = int(h)\n",
    "b = h/6\n",
    "int(b)"
   ]
  },
  {
   "cell_type": "code",
   "execution_count": 1,
   "metadata": {},
   "outputs": [
    {
     "ename": "TypeError",
     "evalue": "Test.method2() missing 1 required positional argument: 'self'",
     "output_type": "error",
     "traceback": [
      "\u001b[0;31m---------------------------------------------------------------------------\u001b[0m",
      "\u001b[0;31mTypeError\u001b[0m                                 Traceback (most recent call last)",
      "Cell \u001b[0;32mIn[1], line 10\u001b[0m\n\u001b[1;32m      7\u001b[0m     \u001b[39mdef\u001b[39;00m \u001b[39mmethod2\u001b[39m(\u001b[39mself\u001b[39m, c,d):\n\u001b[1;32m      8\u001b[0m         \u001b[39mreturn\u001b[39;00m \u001b[39mcls\u001b[39m\u001b[39m.\u001b[39mmethod1(a\u001b[39m=\u001b[39mc,b\u001b[39m=\u001b[39md)\n\u001b[0;32m---> 10\u001b[0m Test\u001b[39m.\u001b[39;49mmethod2(c\u001b[39m=\u001b[39;49m\u001b[39m1\u001b[39;49m,d\u001b[39m=\u001b[39;49m\u001b[39m2\u001b[39;49m)\n",
      "\u001b[0;31mTypeError\u001b[0m: Test.method2() missing 1 required positional argument: 'self'"
     ]
    }
   ],
   "source": [
    "class Test:\n",
    "    @classmethod\n",
    "    def method1(cls, a,b):\n",
    "        return a+b\n",
    "    \n",
    "    \n",
    "    def method2(self, c,d):\n",
    "        return cls.method1(a=c,b=d)\n",
    "\n",
    "Test.method2(c=1,d=2)"
   ]
  }
 ],
 "metadata": {
  "kernelspec": {
   "display_name": "aimobile",
   "language": "python",
   "name": "python3"
  },
  "language_info": {
   "codemirror_mode": {
    "name": "ipython",
    "version": 3
   },
   "file_extension": ".py",
   "mimetype": "text/x-python",
   "name": "python",
   "nbconvert_exporter": "python",
   "pygments_lexer": "ipython3",
   "version": "3.10.10"
  },
  "orig_nbformat": 4
 },
 "nbformat": 4,
 "nbformat_minor": 2
}
