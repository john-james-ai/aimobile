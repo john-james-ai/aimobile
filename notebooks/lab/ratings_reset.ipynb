{
 "cells": [
  {
   "attachments": {},
   "cell_type": "markdown",
   "metadata": {},
   "source": [
    "# Rating Reset"
   ]
  },
  {
   "cell_type": "code",
   "execution_count": 1,
   "metadata": {},
   "outputs": [],
   "source": [
    "from aimobile.container import AIMobileContainer\n",
    "container = AIMobileContainer()\n",
    "container.init_resources()\n",
    "container.wire(packages=[\"aimobile.data.acquisition\"])"
   ]
  },
  {
   "cell_type": "code",
   "execution_count": 2,
   "metadata": {},
   "outputs": [],
   "source": [
    "uow = container.data.uow()\n",
    "uow.rating_repo.reset()"
   ]
  }
 ],
 "metadata": {
  "kernelspec": {
   "display_name": "aimobile",
   "language": "python",
   "name": "python3"
  },
  "language_info": {
   "codemirror_mode": {
    "name": "ipython",
    "version": 3
   },
   "file_extension": ".py",
   "mimetype": "text/x-python",
   "name": "python",
   "nbconvert_exporter": "python",
   "pygments_lexer": "ipython3",
   "version": "3.10.11"
  },
  "orig_nbformat": 4
 },
 "nbformat": 4,
 "nbformat_minor": 2
}
